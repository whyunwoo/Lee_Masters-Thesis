{
 "cells": [
  {
   "cell_type": "markdown",
   "metadata": {},
   "source": [
    "# CSV to JS Converter\n",
    "Created on Dec 18, 2024\n",
    "\n",
    "This notebook was developed for internal use by the Mind in Society Lab (P.I. Nick Camp)."
   ]
  },
  {
   "cell_type": "markdown",
   "metadata": {},
   "source": [
    "### Features"
   ]
  },
  {
   "cell_type": "markdown",
   "metadata": {},
   "source": [
    "1. **Dynamic Hierarchical Structure Generation**  \n",
    "   - Automatically generates a hierarchical array structure in the `groups.js` file based on the number of specified **independent variables**.\n",
    "   - Each array is populated with the corresponding stimulus file paths.\n",
    "\n",
    "2. **Automatic Annotation**  \n",
    "   - Total number of stimuli  \n",
    "   - Number of levels for each independent variable  \n",
    "   - Number of stimuli in the smallest unit arrays  \n",
    "   - A hierarchical structure diagram summarizing the data"
   ]
  },
  {
   "cell_type": "markdown",
   "metadata": {},
   "source": [
    "### How to Use"
   ]
  },
  {
   "cell_type": "markdown",
   "metadata": {},
   "source": [
    "1. **Prepare the CSV File:** \n",
    "\n",
    "   \n",
    "   The CSV file must include column(s) representing **independent variables** and a column containing the **file paths** of the stimuli \n",
    "\n",
    "\n",
    "2. **Define Independent Variables (`level_keys`)**  \n",
    "   - Specify the list of keys (CSV column names) representing the **independent variables** in the `level_keys` variable.  \n",
    "   - Changing the number of independent variables will dynamically adjust the hierarchical structure and the number of stimuli in the smallest unit arrays  \n",
    "\n",
    "\n",
    "3. **Define the Stimulus Path Column (`file_path_key`):** \n",
    "\n",
    "\n",
    "   Assign the column name containing the **stimulus file paths** to the `file_path_key` variable.\n",
    "\n",
    "\n",
    "4. **Run the Notebook**  \n",
    "   - Execute the notebook to generate the `groups.js` file.  \n",
    "   - The file will include a header comment summarizing the following:  \n",
    "     - Total number of stimuli  \n",
    "     - Number of levels for each independent variable  \n",
    "     - Number of stimuli in the smallest unit arrays  \n",
    "     - A hierarchical structure diagram"
   ]
  },
  {
   "cell_type": "markdown",
   "metadata": {},
   "source": [
    "## 1. Load Packages"
   ]
  },
  {
   "cell_type": "code",
   "execution_count": 184,
   "metadata": {},
   "outputs": [],
   "source": [
    "import pandas as pd\n",
    "import json"
   ]
  },
  {
   "cell_type": "markdown",
   "metadata": {},
   "source": [
    "## 2. Helper Functions"
   ]
  },
  {
   "cell_type": "markdown",
   "metadata": {},
   "source": [
    "### (1) Utility functions"
   ]
  },
  {
   "cell_type": "code",
   "execution_count": 178,
   "metadata": {},
   "outputs": [],
   "source": [
    "def add_to_nested_dict(data_dict, keys, value):\n",
    "    \"\"\"\n",
    "    Create a nested dictionary structure dynamically.\n",
    "    \"\"\"\n",
    "    current_dict = data_dict\n",
    "    for key in keys[:-1]:\n",
    "        current_dict = current_dict.setdefault(key, {})\n",
    "    current_dict.setdefault(keys[-1], []).append(value)\n",
    "\n",
    "\n",
    "\n",
    "def calculate_smallest_group_stimuli(groups):\n",
    "    \"\"\"\n",
    "    Calculate the number of stimuli in the smallest groups.\n",
    "    \"\"\"\n",
    "    if isinstance(groups, list):\n",
    "        return len(groups)\n",
    "    elif isinstance(groups, dict):\n",
    "        return min(calculate_smallest_group_stimuli(v) for v in groups.values())\n",
    "    return 0"
   ]
  },
  {
   "cell_type": "markdown",
   "metadata": {},
   "source": [
    "### (2) Data processing function"
   ]
  },
  {
   "cell_type": "code",
   "execution_count": 179,
   "metadata": {},
   "outputs": [],
   "source": [
    "def process_data(df, level_keys, file_path_key):\n",
    "    \"\"\"\n",
    "    Process the DataFrame to create a nested structure and calculate counts.\n",
    "    \"\"\"\n",
    "    # Calculate total counts for each level\n",
    "    total_counts = {key: df[key].nunique() for key in level_keys}\n",
    "\n",
    "    # Create nested dictionary\n",
    "    groups = {}\n",
    "    for _, row in df.iterrows():\n",
    "        keys = [row[level_key] for level_key in level_keys]\n",
    "        add_to_nested_dict(groups, keys, row[file_path_key])\n",
    "\n",
    "    # Calculate stimuli count in the smallest groups\n",
    "    stimuli_count = calculate_smallest_group_stimuli(groups)\n",
    "\n",
    "    return groups, total_counts, stimuli_count"
   ]
  },
  {
   "cell_type": "markdown",
   "metadata": {},
   "source": [
    "### (3) Structure generation function"
   ]
  },
  {
   "cell_type": "code",
   "execution_count": 180,
   "metadata": {},
   "outputs": [],
   "source": [
    "def create_structure_diagram(level_keys, total_counts, stimuli_per_smallest_group):\n",
    "    \"\"\"\n",
    "    Create a structured diagram summarizing the hierarchical structure and stimuli counts.\n",
    "    \"\"\"\n",
    "    # Calculate the total number of groups across all levels\n",
    "    total_groups = 1\n",
    "    for key in level_keys:\n",
    "        total_groups *= total_counts[key]\n",
    "    total_stimuli = total_groups * stimuli_per_smallest_group\n",
    "\n",
    "\n",
    "    summary = \"// -------------- S U M M A R Y --------------\\n\" \n",
    "    summary += f\"// Total {total_stimuli} stimuli = \\n\"\n",
    "    summary += \"//      \" + \" * \".join([f\"{total_counts[key]} {key}\" for key in level_keys])\n",
    "    summary += f\" * {stimuli_per_smallest_group} stimuli per smallest array\\n\\n\"\n",
    "\n",
    "\n",
    "    diagram = \"// ------------ S T R U C T U R E ------------\\n\" \n",
    "    diagram += \"// groups = {\\n\"\n",
    "    indent = \"  \"\n",
    "    for i, key in enumerate(level_keys):\n",
    "        if i == len(level_keys) - 1:\n",
    "            diagram += f\"//{indent * (i + 1)}'{key}': [\\n\"\n",
    "            diagram += f\"//{indent * (i + 2)}'path_to_stimuli_1.jpg',\\n\"\n",
    "            diagram += f\"//{indent * (i + 2)}'path_to_stimuli_2.jpg'\\n\"\n",
    "            diagram += f\"//{indent * (i + 1)}],\\n\"\n",
    "        else:\n",
    "            diagram += f\"//{indent * (i + 1)}'{key}' : {{\\n\"\n",
    "    # Close all open brackets at the correct indentation level\n",
    "    for i in range(len(level_keys) - 1, -1, -1):\n",
    "        diagram += f\"// {indent * i}}},\\n\" if i > 0 else f\"// {indent * i}}}\\n\"\n",
    "    diagram += \"\\n\\n\"\n",
    "    return summary + diagram"
   ]
  },
  {
   "cell_type": "markdown",
   "metadata": {},
   "source": [
    "### (4) Main pipeline function"
   ]
  },
  {
   "cell_type": "code",
   "execution_count": 181,
   "metadata": {},
   "outputs": [],
   "source": [
    "def convert(df, level_keys, file_path_key, output_file):\n",
    "    \"\"\"\n",
    "    Process the entire pipeline from DataFrame to JavaScript file generation.\n",
    "    \"\"\"\n",
    "    try:\n",
    "        # Process data\n",
    "        groups, total_counts, stimuli_count = process_data(df, level_keys, file_path_key)\n",
    "\n",
    "        # Create structure diagram\n",
    "        structure_diagram = create_structure_diagram(level_keys, total_counts, stimuli_count)\n",
    "\n",
    "        # Write to JavaScript file\n",
    "        with open(output_file, 'w') as js_file:\n",
    "            js_file.write(structure_diagram)\n",
    "            js_file.write(\"var groups = \")\n",
    "            js_file.write(json.dumps(groups, indent=2))\n",
    "            js_file.write(\";\")\n",
    "\n",
    "        # Print success message\n",
    "        print(f\"Conversion successful! Output saved to '{output_file}'.\")\n",
    "\n",
    "    except Exception as e:\n",
    "        # Print error message\n",
    "        print(f\"An error occurred during conversion: {e}\")"
   ]
  },
  {
   "cell_type": "markdown",
   "metadata": {},
   "source": [
    "## 3. Convert CSV file to JS file"
   ]
  },
  {
   "cell_type": "markdown",
   "metadata": {},
   "source": [
    "### (1) Configuration"
   ]
  },
  {
   "cell_type": "code",
   "execution_count": 182,
   "metadata": {},
   "outputs": [],
   "source": [
    "# Load the CSV file\n",
    "df = pd.read_csv('stim/example_stim.csv')  ## TODO: Set the directory to your CSV file.\n",
    "\n",
    "# Define the keys and item based on the CSV file\n",
    "level_keys = ['family', 'city', 'cluster']  ## TODO: Specify the column names for the hierarchical levels.\n",
    "file_path_key = 'path'  ## TODO: Specify the column name that contains the paths to the stimuli files.\n",
    "output_file = './groups.js'  # Output file path"
   ]
  },
  {
   "cell_type": "markdown",
   "metadata": {},
   "source": [
    "### (2) Convert!"
   ]
  },
  {
   "cell_type": "code",
   "execution_count": 183,
   "metadata": {},
   "outputs": [
    {
     "name": "stdout",
     "output_type": "stream",
     "text": [
      "Conversion successful! Output saved to './groups.js'.\n"
     ]
    }
   ],
   "source": [
    "convert(df, level_keys, file_path_key, output_file)"
   ]
  }
 ],
 "metadata": {
  "kernelspec": {
   "display_name": "Python 3",
   "language": "python",
   "name": "python3"
  },
  "language_info": {
   "codemirror_mode": {
    "name": "ipython",
    "version": 3
   },
   "file_extension": ".py",
   "mimetype": "text/x-python",
   "name": "python",
   "nbconvert_exporter": "python",
   "pygments_lexer": "ipython3",
   "version": "3.13.1"
  }
 },
 "nbformat": 4,
 "nbformat_minor": 2
}
