{
 "cells": [
  {
   "cell_type": "code",
   "execution_count": 2,
   "metadata": {},
   "outputs": [],
   "source": [
    "import pandas as pd\n",
    "import json\n",
    "import os"
   ]
  },
  {
   "cell_type": "code",
   "execution_count": 3,
   "metadata": {},
   "outputs": [
    {
     "name": "stdout",
     "output_type": "stream",
     "text": [
      "JavaScript file has been created: groups.js (Only clusters with ≥5 images, selecting 6 such clusters)\n"
     ]
    }
   ],
   "source": [
    "csv_file = \"./Sister Cities Sampling.csv\"  # CSV file name\n",
    "df = pd.read_csv(csv_file, encoding=\"utf-8-sig\", dtype={\"Group_ID\": str, \"city_order\": str})\n",
    "\n",
    "# Filter only valid images (Result == '1 good')\n",
    "df_filtered = df[df['Result'] == '1 good']\n",
    "\n",
    "# Create hierarchical data structure: groups[family][city_order][cluster]\n",
    "groups = {}\n",
    "\n",
    "for _, row in df_filtered.iterrows():\n",
    "    city = row['City'].strip()\n",
    "    country = row['State_Province'].strip()\n",
    "    cluster = str(row['Cluster']).strip()\n",
    "    family = row['Group_ID'].strip()\n",
    "    city_order = row['city_order'].strip()\n",
    "\n",
    "    # Build hierarchical structure\n",
    "    if family not in groups:\n",
    "        groups[family] = {}\n",
    "    if city_order not in groups[family]:\n",
    "        groups[family][city_order] = {}\n",
    "    if cluster not in groups[family][city_order]:\n",
    "        groups[family][city_order][cluster] = []\n",
    "\n",
    "    # Add image file path\n",
    "    folder_name = f\"./stim/{city}, {country}_8_1_8\"\n",
    "    image_name = f\"{city}___{country}_{cluster}_{row['Image']}.jpg\"\n",
    "    file_path = os.path.join(folder_name, image_name)\n",
    "\n",
    "    groups[family][city_order][cluster].append(file_path)\n",
    "\n",
    "# Select only clusters with at least 5 images, then choose 6 such clusters\n",
    "filtered_groups = {\n",
    "    family: {\n",
    "        city_order: {\n",
    "            cluster: sorted(groups[family][city_order][cluster])[:5]  # Include up to 5 images per cluster\n",
    "            for cluster in sorted(\n",
    "                [c for c in groups[family][city_order] if len(groups[family][city_order][c]) >= 5],  # Only clusters with ≥5 images\n",
    "                key=lambda x: int(x)\n",
    "            )[:6]  # Include up to 6 clusters\n",
    "        }\n",
    "        for city_order in sorted(groups[family], key=lambda x: int(x))  # Sort by city order\n",
    "        if len([c for c in groups[family][city_order] if len(groups[family][city_order][c]) >= 5]) >= 6  # Ensure at least 6 valid clusters\n",
    "    }\n",
    "    for family in sorted(groups, key=lambda x: int(x))  # Sort by family ID\n",
    "}\n",
    "\n",
    "# Convert JSON to JavaScript format\n",
    "js_code = f\"const groups = {json.dumps(filtered_groups, indent=4, ensure_ascii=False)};\"\n",
    "\n",
    "# Save JS file\n",
    "js_file_path = \"groups.js\"\n",
    "with open(js_file_path, \"w\", encoding=\"utf-8\") as f:\n",
    "    f.write(js_code)\n",
    "\n",
    "print(f\"JavaScript file has been created: {js_file_path} (Only clusters with ≥5 images, selecting 6 such clusters)\")"
   ]
  }
 ],
 "metadata": {
  "kernelspec": {
   "display_name": "Python 3",
   "language": "python",
   "name": "python3"
  },
  "language_info": {
   "codemirror_mode": {
    "name": "ipython",
    "version": 3
   },
   "file_extension": ".py",
   "mimetype": "text/x-python",
   "name": "python",
   "nbconvert_exporter": "python",
   "pygments_lexer": "ipython3",
   "version": "3.9.6"
  }
 },
 "nbformat": 4,
 "nbformat_minor": 2
}
